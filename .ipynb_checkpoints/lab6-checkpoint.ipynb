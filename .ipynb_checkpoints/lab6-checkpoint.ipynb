{
 "cells": [
  {
   "cell_type": "code",
   "execution_count": null,
   "metadata": {},
   "outputs": [],
   "source": [
    "# CMPFIN0010 Lab 6\n",
    "# Brian Hutton & Langston McArthur\n",
    "\n",
    "# WITH EDITS/ADDITIONS:\n",
    "\n",
    "# Function to print name x times\n",
    "def printNameXTimes(name, x, decision):\n",
    "    if decision == 1:\n",
    "        for i in range(1, x + 1):\n",
    "            print(str(i) + \" \")\n",
    "            print(name*i)\n",
    "    else:\n",
    "        count = x\n",
    "        while(count > 0):\n",
    "            print(str(count) + \" \")\n",
    "            print(name*count)\n",
    "            count -= 1\n",
    "\n",
    "# Main function\n",
    "def main(decision):\n",
    "    name = input(\"Enter your name: \")\n",
    "    x = int(input(\"Enter number of iterations: \"))\n",
    "    printNameXTimes(name, x, decision)\n",
    "\n",
    "\n",
    "decision = int(input(\"Would you like it to increment or decrement? Type 1 for increment, or 2 for decrement: \"))\n",
    "main(decision)"
   ]
  }
 ],
 "metadata": {
  "kernelspec": {
   "display_name": "Python 3",
   "language": "python",
   "name": "python3"
  },
  "language_info": {
   "codemirror_mode": {
    "name": "ipython",
    "version": 3
   },
   "file_extension": ".py",
   "mimetype": "text/x-python",
   "name": "python",
   "nbconvert_exporter": "python",
   "pygments_lexer": "ipython3",
   "version": "3.8.3"
  }
 },
 "nbformat": 4,
 "nbformat_minor": 4
}
