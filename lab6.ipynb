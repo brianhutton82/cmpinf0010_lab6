# CMPFIN0010 Lab 6
# Brian Hutton & Langston McArthur

# ORIGINAL

# Function ot print name x times
def printNameXTimes(name, x):
	for i in range(x + 1):
		print(name*i)

# Main function
def main():
	name = input("Enter your name: ")
	x = int(input("Enter number of iterations: "))
	printNameXTimes(name, x)


main()

# WITH EDITS/ADDITIONS:

# Function ot print name x times
def printNameXTimes(name, x):
	if decision == 1:
		for i in range(1, x + 1):
			print(str(i) + " ")
			print(name*i)
	else:
		count = x
		while(count > 0):
			print(str(count) + " ")
			print(name*count)
			count -= 1

# Main function
def main():
	name = input("Enter your name: ")
	x = int(input("Enter number of iterations: "))
	printNameXTimes(name, x)


decision = int(input("Would you like it to increment or decrement? Type 1 for increment, or 2 for decrement: "))
main()

