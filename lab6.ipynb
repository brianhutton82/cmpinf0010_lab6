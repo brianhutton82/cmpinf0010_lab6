# CMPFIN0010 Lab 6
# Brian Hutton & _put your name here_

# Function ot print name x times
def printNameXTimes(name, x):
	for i in range(x + 1):
		print(name*i)
	print("\n")

# Main function
def main():
	name = input("Enter your name: ")
	x = int(input("Enter number of iterations: "))
	printNameXTimes(name, x)

main()
